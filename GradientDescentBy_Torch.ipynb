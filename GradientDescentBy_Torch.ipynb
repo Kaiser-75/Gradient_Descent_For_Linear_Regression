{
 "cells": [
  {
   "cell_type": "code",
   "execution_count": 1,
   "id": "ef4edb9a",
   "metadata": {},
   "outputs": [
    {
     "name": "stdout",
     "output_type": "stream",
     "text": [
      "Before training f(5):0.000\n",
      "Epochs:1, Loss:30.00000000, Weights:0.300\n",
      "Epochs:2, Loss:21.67499924, Weights:0.555\n",
      "Epochs:3, Loss:15.66018772, Weights:0.772\n",
      "Epochs:4, Loss:11.31448650, Weights:0.956\n",
      "Epochs:5, Loss:8.17471695, Weights:1.113\n",
      "Epochs:6, Loss:5.90623236, Weights:1.246\n",
      "Epochs:7, Loss:4.26725292, Weights:1.359\n",
      "Epochs:8, Loss:3.08308983, Weights:1.455\n",
      "Epochs:9, Loss:2.22753215, Weights:1.537\n",
      "Epochs:10, Loss:1.60939169, Weights:1.606\n",
      "Epochs:11, Loss:1.16278565, Weights:1.665\n",
      "Epochs:12, Loss:0.84011245, Weights:1.716\n",
      "Epochs:13, Loss:0.60698116, Weights:1.758\n",
      "Epochs:14, Loss:0.43854395, Weights:1.794\n",
      "Epochs:15, Loss:0.31684780, Weights:1.825\n",
      "Epochs:16, Loss:0.22892261, Weights:1.851\n",
      "Epochs:17, Loss:0.16539653, Weights:1.874\n",
      "Epochs:18, Loss:0.11949898, Weights:1.893\n",
      "Epochs:19, Loss:0.08633806, Weights:1.909\n",
      "Epochs:20, Loss:0.06237914, Weights:1.922\n",
      "Epochs:21, Loss:0.04506890, Weights:1.934\n",
      "Epochs:22, Loss:0.03256231, Weights:1.944\n",
      "Epochs:23, Loss:0.02352631, Weights:1.952\n",
      "Epochs:24, Loss:0.01699772, Weights:1.960\n",
      "Epochs:25, Loss:0.01228084, Weights:1.966\n",
      "Epochs:26, Loss:0.00887291, Weights:1.971\n",
      "Epochs:27, Loss:0.00641066, Weights:1.975\n",
      "Epochs:28, Loss:0.00463169, Weights:1.979\n",
      "Epochs:29, Loss:0.00334642, Weights:1.982\n",
      "Epochs:30, Loss:0.00241778, Weights:1.985\n",
      "Epochs:31, Loss:0.00174685, Weights:1.987\n",
      "Epochs:32, Loss:0.00126211, Weights:1.989\n",
      "Epochs:33, Loss:0.00091188, Weights:1.991\n",
      "Epochs:34, Loss:0.00065882, Weights:1.992\n",
      "Epochs:35, Loss:0.00047601, Weights:1.993\n",
      "Epochs:36, Loss:0.00034392, Weights:1.994\n",
      "Epochs:37, Loss:0.00024848, Weights:1.995\n",
      "Epochs:38, Loss:0.00017952, Weights:1.996\n",
      "Epochs:39, Loss:0.00012971, Weights:1.996\n",
      "Epochs:40, Loss:0.00009371, Weights:1.997\n",
      "Epochs:41, Loss:0.00006770, Weights:1.997\n",
      "Epochs:42, Loss:0.00004891, Weights:1.998\n",
      "Epochs:43, Loss:0.00003534, Weights:1.998\n",
      "Epochs:44, Loss:0.00002553, Weights:1.998\n",
      "Epochs:45, Loss:0.00001845, Weights:1.999\n",
      "Epochs:46, Loss:0.00001333, Weights:1.999\n",
      "Epochs:47, Loss:0.00000963, Weights:1.999\n",
      "Epochs:48, Loss:0.00000696, Weights:1.999\n",
      "Epochs:49, Loss:0.00000503, Weights:1.999\n",
      "Epochs:50, Loss:0.00000363, Weights:1.999\n",
      "Epochs:51, Loss:0.00000262, Weights:1.999\n",
      "Epochs:52, Loss:0.00000190, Weights:2.000\n",
      "Epochs:53, Loss:0.00000137, Weights:2.000\n",
      "Epochs:54, Loss:0.00000099, Weights:2.000\n",
      "Epochs:55, Loss:0.00000071, Weights:2.000\n",
      "Epochs:56, Loss:0.00000052, Weights:2.000\n",
      "Epochs:57, Loss:0.00000037, Weights:2.000\n",
      "Epochs:58, Loss:0.00000027, Weights:2.000\n",
      "Epochs:59, Loss:0.00000019, Weights:2.000\n",
      "Epochs:60, Loss:0.00000014, Weights:2.000\n",
      "Epochs:61, Loss:0.00000010, Weights:2.000\n",
      "Epochs:62, Loss:0.00000007, Weights:2.000\n",
      "Epochs:63, Loss:0.00000005, Weights:2.000\n",
      "Epochs:64, Loss:0.00000004, Weights:2.000\n",
      "Epochs:65, Loss:0.00000003, Weights:2.000\n",
      "Epochs:66, Loss:0.00000002, Weights:2.000\n",
      "Epochs:67, Loss:0.00000001, Weights:2.000\n",
      "Epochs:68, Loss:0.00000001, Weights:2.000\n",
      "Epochs:69, Loss:0.00000001, Weights:2.000\n",
      "Epochs:70, Loss:0.00000001, Weights:2.000\n",
      "After training f(5):10.000\n"
     ]
    }
   ],
   "source": [
    "import torch\n",
    "\n",
    "X = torch.tensor([1, 2, 3, 4], dtype = torch.float32)\n",
    "Y = torch.tensor([2, 4, 6, 8], dtype = torch.float32)\n",
    "w = torch.tensor(0, dtype = torch.float32, requires_grad = True)\n",
    "loss_tracker =torch.tensor([])\n",
    "# Model building\n",
    "def forward(X):\n",
    "    return w * X\n",
    "\n",
    "def loss(y_pred, y):\n",
    "    return ((y_pred-y)**2).mean()\n",
    "\n",
    "print(f'Before training f(5):{forward(5):.3f}')\n",
    "\n",
    "# Training\n",
    "lr = 0.01\n",
    "n_iters = 70\n",
    "\n",
    "for epochs in range(n_iters):\n",
    "    y_pred = forward(X)\n",
    "    l = loss(y_pred, Y)\n",
    "    loss_tracker = torch.cat([loss_tracker, l.view(1)], dim = 0 )\n",
    "    l.backward()\n",
    "    with torch.no_grad():\n",
    "        w -= lr * w.grad\n",
    "    w.grad.zero_()\n",
    "    print(f'Epochs:{epochs+1}, Loss:{l:.8f}, Weights:{w:.3f}')\n",
    "\n",
    "print(f'After training f(5):{forward(5):.3f}')"
   ]
  },
  {
   "cell_type": "code",
   "execution_count": 2,
   "id": "9662eed9",
   "metadata": {},
   "outputs": [
    {
     "data": {
      "image/png": "[encoded data removed]",
      "text/plain": [
       "<Figure size 640x480 with 1 Axes>"
      ]
     },
     "metadata": {},
     "output_type": "display_data"
    }
   ],
   "source": [
    "import matplotlib.pyplot as plt \n",
    "import numpy as np\n",
    "x = torch.arange(70)\n",
    "x = x.detach().numpy()\n",
    "loss_tracker = loss_tracker.detach().numpy()\n",
    "plt.plot(x, loss_tracker)\n",
    "plt.xlabel('Epochs')\n",
    "plt.ylabel('Loss')\n",
    "plt.title('Loss vs Epochs')\n",
    "plt.show()"
   ]
  }
 ],
 "metadata": {
  "kernelspec": {
   "display_name": "Python 3 (ipykernel)",
   "language": "python",
   "name": "python3"
  },
  "language_info": {
   "codemirror_mode": {
    "name": "ipython",
    "version": 3
   },
   "file_extension": ".py",
   "mimetype": "text/x-python",
   "name": "python",
   "nbconvert_exporter": "python",
   "pygments_lexer": "ipython3",
   "version": "3.11.3"
  }
 },
 "nbformat": 4,
 "nbformat_minor": 5
}
