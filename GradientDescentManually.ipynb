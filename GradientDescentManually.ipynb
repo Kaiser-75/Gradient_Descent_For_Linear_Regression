{
 "cells": [
  {
   "cell_type": "code",
   "execution_count": 1,
   "id": "7b7eac66",
   "metadata": {},
   "outputs": [
    {
     "name": "stdout",
     "output_type": "stream",
     "text": [
      "Before training f(5):0.000\n",
      "Epoch:1, Loss: 30.00000000, Weights = 0.300\n",
      "Epoch:2, Loss: 21.67499924, Weights = 0.555\n",
      "Epoch:3, Loss: 15.66018677, Weights = 0.772\n",
      "Epoch:4, Loss: 11.31448555, Weights = 0.956\n",
      "Epoch:5, Loss: 8.17471600, Weights = 1.113\n",
      "Epoch:6, Loss: 5.90623236, Weights = 1.246\n",
      "Epoch:7, Loss: 4.26725292, Weights = 1.359\n",
      "Epoch:8, Loss: 3.08308983, Weights = 1.455\n",
      "Epoch:9, Loss: 2.22753215, Weights = 1.537\n",
      "Epoch:10, Loss: 1.60939264, Weights = 1.606\n",
      "Epoch:11, Loss: 1.16278565, Weights = 1.665\n",
      "Epoch:12, Loss: 0.84011310, Weights = 1.716\n",
      "Epoch:13, Loss: 0.60698175, Weights = 1.758\n",
      "Epoch:14, Loss: 0.43854395, Weights = 1.794\n",
      "Epoch:15, Loss: 0.31684822, Weights = 1.825\n",
      "Epoch:16, Loss: 0.22892293, Weights = 1.851\n",
      "Epoch:17, Loss: 0.16539653, Weights = 1.874\n",
      "Epoch:18, Loss: 0.11949898, Weights = 1.893\n",
      "Epoch:19, Loss: 0.08633806, Weights = 1.909\n",
      "Epoch:20, Loss: 0.06237932, Weights = 1.922\n",
      "Epoch:21, Loss: 0.04506905, Weights = 1.934\n",
      "Epoch:22, Loss: 0.03256244, Weights = 1.944\n",
      "Epoch:23, Loss: 0.02352631, Weights = 1.952\n",
      "Epoch:24, Loss: 0.01699772, Weights = 1.960\n",
      "Epoch:25, Loss: 0.01228092, Weights = 1.966\n",
      "Epoch:26, Loss: 0.00887291, Weights = 1.971\n",
      "Epoch:27, Loss: 0.00641072, Weights = 1.975\n",
      "Epoch:28, Loss: 0.00463173, Weights = 1.979\n",
      "Epoch:29, Loss: 0.00334642, Weights = 1.982\n",
      "Epoch:30, Loss: 0.00241778, Weights = 1.985\n",
      "Epoch:31, Loss: 0.00174685, Weights = 1.987\n",
      "Epoch:32, Loss: 0.00126211, Weights = 1.989\n",
      "Epoch:33, Loss: 0.00091188, Weights = 1.991\n",
      "Epoch:34, Loss: 0.00065882, Weights = 1.992\n",
      "Epoch:35, Loss: 0.00047601, Weights = 1.993\n",
      "Epoch:36, Loss: 0.00034391, Weights = 1.994\n",
      "Epoch:37, Loss: 0.00024848, Weights = 1.995\n",
      "Epoch:38, Loss: 0.00017952, Weights = 1.996\n",
      "Epoch:39, Loss: 0.00012971, Weights = 1.996\n",
      "Epoch:40, Loss: 0.00009371, Weights = 1.997\n",
      "Epoch:41, Loss: 0.00006770, Weights = 1.997\n",
      "Epoch:42, Loss: 0.00004892, Weights = 1.998\n",
      "Epoch:43, Loss: 0.00003534, Weights = 1.998\n",
      "Epoch:44, Loss: 0.00002554, Weights = 1.998\n",
      "Epoch:45, Loss: 0.00001845, Weights = 1.999\n",
      "Epoch:46, Loss: 0.00001333, Weights = 1.999\n",
      "Epoch:47, Loss: 0.00000963, Weights = 1.999\n",
      "Epoch:48, Loss: 0.00000696, Weights = 1.999\n",
      "Epoch:49, Loss: 0.00000503, Weights = 1.999\n",
      "Epoch:50, Loss: 0.00000363, Weights = 1.999\n",
      "After training f(5):9.997\n"
     ]
    }
   ],
   "source": [
    "import numpy as np\n",
    "\n",
    "# Gradient descent Manually\n",
    "# initialization of parameter\n",
    "\n",
    "X = np.array([1,2,3,4], dtype = np.float32)\n",
    "Y = np.array([2,4,6,8], dtype = np.float32)\n",
    "w = 0.0\n",
    "\n",
    "loss_tracker = np.array([])\n",
    "\n",
    "# Model building\n",
    "# Model output\n",
    "def forward(x):\n",
    "    return w*x\n",
    "\n",
    "# Loss\n",
    "def loss(y_pred, y):\n",
    "    return ((y_pred-y)**2).mean()\n",
    "\n",
    "# Gradient\n",
    "# MSE = 1/N *(w*x-y)**2\n",
    "# dJ/dw = 1/N *2*x (w*x-y)\n",
    "\n",
    "def gradient( x, y, y_pred):\n",
    "    return (2*x*(y_pred - y)).mean()\n",
    "\n",
    "print(f'Before training f(5):{forward(5):.3f}')\n",
    "\n",
    "# Training\n",
    "lr = 0.01\n",
    "n_iters = 50\n",
    "\n",
    "# RULE : prediction , loss, gradient, update\n",
    "for epochs in range(n_iters):\n",
    "    \n",
    "    y_pred = forward(X)\n",
    "    \n",
    "    l = loss(y_pred, Y)\n",
    "    loss_tracker = np.append(loss_tracker, l)\n",
    "    \n",
    "    dw = gradient( X, Y, y_pred )\n",
    "    \n",
    "    w -= lr*dw\n",
    "    \n",
    "    print(f'Epoch:{epochs+1}, Loss: {l:.8f}, Weights = {w:.3f}')\n",
    "\n",
    "print(f'After training f(5):{forward(5):.3f}')\n"
   ]
  },
  {
   "cell_type": "code",
   "execution_count": 2,
   "id": "98892677",
   "metadata": {},
   "outputs": [
    {
     "data": {
      "image/png": "[encoded data removed]",
      "text/plain": [
       "<Figure size 640x480 with 1 Axes>"
      ]
     },
     "metadata": {},
     "output_type": "display_data"
    }
   ],
   "source": [
    "import matplotlib.pyplot as plt \n",
    "x = np.arange(50)\n",
    "plt.plot(x, loss_tracker)\n",
    "plt.xlabel('Epochs')\n",
    "plt.ylabel('Loss')\n",
    "plt.title('Loss vs Epochs')\n",
    "plt.show()"
   ]
  }
 ],
 "metadata": {
  "kernelspec": {
   "display_name": "Python 3 (ipykernel)",
   "language": "python",
   "name": "python3"
  },
  "language_info": {
   "codemirror_mode": {
    "name": "ipython",
    "version": 3
   },
   "file_extension": ".py",
   "mimetype": "text/x-python",
   "name": "python",
   "nbconvert_exporter": "python",
   "pygments_lexer": "ipython3",
   "version": "3.11.3"
  }
 },
 "nbformat": 4,
 "nbformat_minor": 5
}
